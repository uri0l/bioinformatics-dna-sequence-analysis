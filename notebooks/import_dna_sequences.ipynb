{
 "cells": [
  {
   "cell_type": "markdown",
   "id": "486eda77",
   "metadata": {},
   "source": [
    "To process DNA sequences from FASTA files located in your current working directory, follow these steps:\n",
    "\n",
    "- Ensure your working directory contains:\n",
    "  1. A folder named \"data\", which holds the raw .fasta files.\n",
    "  2. A folder named \"sequences\", where the extracted sequences will be saved.\n",
    "\n",
    "\n",
    "- Create a function that:\n",
    "  1. Reads the FASTA file(s) from the \"data\" folder.\n",
    "  2. Extracts the DNA sequence(s) while ignoring the header lines.\n",
    "  3. Saves each sequence to a separate .txt file, named after the sequence identifier (found in the FASTA header).\n",
    "  4. Writes the .txt files into the \"sequences\" folder.\n",
    "\n",
    "By structuring your data and output directories in this way, the workflow remains organized and ensures compatibility with subsequent processing steps."
   ]
  },
  {
   "cell_type": "markdown",
   "id": "b943801c",
   "metadata": {},
   "source": [
    "We can try and identify the title (accession number) and the sequence using REGEX, but for SOME reason, I wasn't able to since I think it is overspecific and each fasta file's header can be a bit different. Here's my regex in case you want to try:\n",
    "- pattern = r'>\\w+\\|\\d+\\|\\w+\\|(\\w+\\.\\d+)\\|.*\\n([ATGC\\n]+)'"
   ]
  },
  {
   "cell_type": "code",
   "execution_count": 28,
   "id": "cc0beaed",
   "metadata": {},
   "outputs": [
    {
     "name": "stdout",
     "output_type": "stream",
     "text": [
      "sequence4.fasta done\n",
      "sequence2.fasta done\n",
      "sequence.fasta done\n",
      "sequence1.fasta done\n",
      "sequence3.fasta done\n"
     ]
    }
   ],
   "source": [
    "import os\n",
    "\n",
    "def sequence_extractor_for_all_files(data_folder, output_folder):\n",
    "    # Ensure the output folder exists\n",
    "    os.makedirs(output_folder, exist_ok=True)\n",
    "\n",
    "    # Loop through all files in the data folder\n",
    "    for fasta_file in os.listdir(data_folder):\n",
    "        # Construct the full path to the file\n",
    "        fasta_path = os.path.join(data_folder, fasta_file)\n",
    "\n",
    "        # Check if it is a file (skip directories)\n",
    "        if os.path.isfile(fasta_path) and fasta_file.endswith(\".fasta\"):\n",
    "            # Process the file\n",
    "            print(f\"{fasta_file} done\")  # Optional: for tracking progress\n",
    "            sequence_extractor(fasta_file, data_folder, output_folder)\n",
    "\n",
    "def sequence_extractor(fasta_file, data_folder, output_folder):\n",
    "    # Full path to the input FASTA file\n",
    "    fasta_path = os.path.join(data_folder, fasta_file)\n",
    "\n",
    "    with open(fasta_path, 'r') as f:\n",
    "        title = ''\n",
    "        sequence = ''\n",
    "\n",
    "        for line in f:\n",
    "            line = line.strip()  # Remove any leading/trailing whitespace\n",
    "\n",
    "            if line.startswith(\">\"):  # Header line (sequence identifier)\n",
    "                # If there's a previous sequence, save it to a file\n",
    "                if title and sequence:\n",
    "                    # Create a file named after the sequence identifier (title)\n",
    "                    sequence_file = os.path.join(output_folder, f\"{title}.txt\")\n",
    "                    with open(sequence_file, 'w') as seq_file:\n",
    "                        seq_file.write(sequence)  # Write only the sequence (not the header)\n",
    "\n",
    "                # Extract the accession number from the header\n",
    "                parts = line.split()  # Split by whitespace\n",
    "                title = parts[0][1:]  # Remove the \">\" and get the accession number\n",
    "                sequence = ''  # Reset sequence for the next entry\n",
    "\n",
    "            else:  # Sequence line (nucleotide data)\n",
    "                if line.startswith(('A', 'C', 'T', 'G')):\n",
    "                    sequence += line  # Add the sequence to the current sequence\n",
    "\n",
    "        # After the loop, save the last sequence\n",
    "        if title and sequence:\n",
    "            sequence_file = os.path.join(output_folder, f\"{title}.txt\")\n",
    "            with open(sequence_file, 'w') as seq_file:\n",
    "                seq_file.write(sequence)  # Write only the sequence (not the header)\n",
    "\n",
    "\n",
    "# Example usage:\n",
    "data_folder = 'data'  # Folder where the raw FASTA files are located\n",
    "output_folder = 'sequences'  # Folder where the sequences will be saved\n",
    "\n",
    "# Process all FASTA files in the directory\n",
    "sequence_extractor_for_all_files(data_folder, output_folder)\n"
   ]
  },
  {
   "cell_type": "code",
   "execution_count": null,
   "id": "b235d9ae",
   "metadata": {},
   "outputs": [],
   "source": []
  },
  {
   "cell_type": "code",
   "execution_count": null,
   "id": "5a806198",
   "metadata": {},
   "outputs": [],
   "source": []
  }
 ],
 "metadata": {
  "kernelspec": {
   "display_name": "Python 3 (ipykernel)",
   "language": "python",
   "name": "python3"
  },
  "language_info": {
   "codemirror_mode": {
    "name": "ipython",
    "version": 3
   },
   "file_extension": ".py",
   "mimetype": "text/x-python",
   "name": "python",
   "nbconvert_exporter": "python",
   "pygments_lexer": "ipython3",
   "version": "3.9.12"
  }
 },
 "nbformat": 4,
 "nbformat_minor": 5
}
