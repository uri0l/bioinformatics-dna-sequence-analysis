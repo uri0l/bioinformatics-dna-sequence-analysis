{
 "cells": [
  {
   "cell_type": "markdown",
   "id": "06c2e28a",
   "metadata": {},
   "source": [
    "In this notebook, there are some extra useful functions and scritps that can help you troughout the process, in case you encounter some complications or simply want to expand by exploring other options or creating new ones.\n",
    "\n",
    "The following functions are:\n",
    "\n",
    "- countingMSAsize.py - It prints the number of sites of a given multiple sequence alignment (FASTA).\n",
    "- countingNumbSeqsInTheFasta.py - It counts the number of sequences in a FASTA file.\n",
    "- fasta_splitter.py - It splits a given FASTA file in a subset of FASTA files.\n",
    "- fastqToFasta.py - It converts a given FASTQ file into a FASTA file.\n",
    "- reversingProtSeqs.py - It reads a FASTA file and reverses the sequences"
   ]
  },
  {
   "cell_type": "markdown",
   "id": "e7942d35",
   "metadata": {},
   "source": [
    "### CountingMSAsize.py"
   ]
  },
  {
   "cell_type": "code",
   "execution_count": null,
   "id": "fbd5bb01",
   "metadata": {},
   "outputs": [],
   "source": [
    "#!/usr/bin/env python3\n",
    "import sys; import re\n",
    "\n",
    "if len(sys.argv) == 1:\n",
    "    sys.exit('INFO: It prints the number of sites of a given multiple sequence alignment (FASTA).\\n\\nInsert MSA Fasta file')\n",
    "    \n",
    "MSAfile = open(sys.argv[1],'r')\n",
    "\n",
    "characterCounter = 0; MSAsize = 0\n",
    "for line in MSAfile:\n",
    "    line = re.sub('\\n$','',line)\n",
    "    if re.search('^>',line):\n",
    "        characterCounter += 1\n",
    "        if characterCounter == 2:\n",
    "            break\n",
    "    else:\n",
    "        if characterCounter == 1:\n",
    "            MSAsize += len(line)\n",
    "    \n",
    "MSAfile.close()\n",
    "\n",
    "print(sys.argv[1],MSAsize,sep='\\t')"
   ]
  },
  {
   "cell_type": "markdown",
   "id": "82e34a6b",
   "metadata": {},
   "source": [
    "### CountingNumbSeqsInTheFasta.py"
   ]
  },
  {
   "cell_type": "code",
   "execution_count": null,
   "id": "39257eea",
   "metadata": {},
   "outputs": [],
   "source": [
    "#!/usr/bin/env python3\n",
    "import sys; import re\n",
    "\n",
    "if len(sys.argv) != 2:\n",
    "    sys.exit('INFO: It counts the number of sequences in a FASTA file.\\n\\nInsert:\\n\\t1) FASTA file')\n",
    "\n",
    "fastaFile = open(sys.argv[1],'r')\n",
    "\n",
    "counter = 0\n",
    "\n",
    "for line in fastaFile:\n",
    "    if re.search('^>',line):\n",
    "        counter += 1\n",
    "\n",
    "fastaFile.close()\n",
    "\n",
    "print(sys.argv[1],counter,sep='\\t')"
   ]
  },
  {
   "cell_type": "markdown",
   "id": "91878fba",
   "metadata": {},
   "source": [
    "### fasta_splitter.py"
   ]
  },
  {
   "cell_type": "code",
   "execution_count": null,
   "id": "be31d10d",
   "metadata": {},
   "outputs": [],
   "source": []
  },
  {
   "cell_type": "markdown",
   "id": "c7da6109",
   "metadata": {},
   "source": [
    "### fastqToFasta.py"
   ]
  },
  {
   "cell_type": "code",
   "execution_count": null,
   "id": "9ae59448",
   "metadata": {},
   "outputs": [],
   "source": [
    "#!/usr/bin/env python3\n",
    "\n",
    "import sys; import re\n",
    "\n",
    "if len(sys.argv) != 2:\n",
    "    sys.exit(\"INFO: It converts a given FASTQ file into a FASTA file.\\n\\nInsert: 1) a FASTQ file\")\n",
    "\n",
    "fasta = open(sys.argv[1],\"r\")\n",
    "\n",
    "counter = 0;\n",
    "\n",
    "for line in fasta:\n",
    "    line = re.sub(\"\\n$\",\"\",line)\n",
    "    counter = counter + 1\n",
    "    if (counter == 1):\n",
    "        print (\">\",line,sep=\"\")#\n",
    "    elif (counter == 2):\n",
    "        print (line)#\n",
    "    elif (counter == 4):\n",
    "        counter = 0\n",
    "\n",
    "fasta.close()"
   ]
  },
  {
   "cell_type": "markdown",
   "id": "ce4a9e54",
   "metadata": {},
   "source": [
    "### reversingProtSeqs.py"
   ]
  },
  {
   "cell_type": "code",
   "execution_count": null,
   "id": "6fc198fb",
   "metadata": {},
   "outputs": [],
   "source": []
  }
 ],
 "metadata": {
  "kernelspec": {
   "display_name": "Python 3 (ipykernel)",
   "language": "python",
   "name": "python3"
  },
  "language_info": {
   "codemirror_mode": {
    "name": "ipython",
    "version": 3
   },
   "file_extension": ".py",
   "mimetype": "text/x-python",
   "name": "python",
   "nbconvert_exporter": "python",
   "pygments_lexer": "ipython3",
   "version": "3.9.12"
  }
 },
 "nbformat": 4,
 "nbformat_minor": 5
}
