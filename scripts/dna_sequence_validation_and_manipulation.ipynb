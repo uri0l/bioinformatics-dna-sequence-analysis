{
 "cells": [
  {
   "cell_type": "markdown",
   "id": "9dba3245",
   "metadata": {},
   "source": [
    "## DNA Sequence Validation and Manipulation"
   ]
  },
  {
   "cell_type": "markdown",
   "id": "74ed563a",
   "metadata": {},
   "source": [
    "In this notebook, the objective is to develop the following functions:\n",
    "- Reverse: returns the DNA sequence in reverse format.\n",
    "- Complement: returns the complement of the DNA sequence.\n",
    "- Reverse Complement: returns the reverse complement of a DNA sequence."
   ]
  },
  {
   "cell_type": "code",
   "execution_count": 4,
   "id": "80b4a400",
   "metadata": {},
   "outputs": [
    {
     "data": {
      "text/plain": [
       "'AAAAAACGACGATCATCAGCGTACGACGACTCGACGATACAGGTCA'"
      ]
     },
     "execution_count": 4,
     "metadata": {},
     "output_type": "execute_result"
    }
   ],
   "source": [
    "def reverse_sequence(sequence):\n",
    "    # return the reverse of a sequence\n",
    "    return sequence[::-1]\n",
    "\n",
    "\n",
    "reverse_sequence('ACTGGACATAGCAGCTCAGCAGCATGCGACTACTAGCAGCAAAAAA')"
   ]
  },
  {
   "cell_type": "code",
   "execution_count": 11,
   "id": "5604e504",
   "metadata": {},
   "outputs": [
    {
     "data": {
      "text/plain": [
       "'TGACCTGTATCGTCGAGTCGTCGTACGCTGATGATCGTCGTTTTTT'"
      ]
     },
     "execution_count": 11,
     "metadata": {},
     "output_type": "execute_result"
    }
   ],
   "source": [
    "def complement_sequence(sequence):\n",
    "    # return the complement of a DNA sequence\n",
    "    complement_seq = {\n",
    "        \"A\": \"T\",\n",
    "        \"C\": \"G\",\n",
    "        \"G\": \"C\",\n",
    "        \"T\": \"A\"\n",
    "    }\n",
    "    return ''.join(complement_seq[i] for i in sequence)\n",
    "\n",
    "complement_sequence(sequence)"
   ]
  },
  {
   "cell_type": "code",
   "execution_count": 14,
   "id": "fa8c6f3e",
   "metadata": {},
   "outputs": [
    {
     "data": {
      "text/plain": [
       "'TTTTTTGCTGCTAGTAGTCGCATGCTGCTGAGCTGCTATGTCCAGT'"
      ]
     },
     "execution_count": 14,
     "metadata": {},
     "output_type": "execute_result"
    }
   ],
   "source": [
    "def reverse_complement(sequence):\n",
    "    # return the reverse complement of a sequence\n",
    "    complement_seq = {\n",
    "        \"A\": \"T\",\n",
    "        \"C\": \"G\",\n",
    "        \"G\": \"C\",\n",
    "        \"T\": \"A\"\n",
    "    }\n",
    "    return ''.join(complement_seq[i] for i in sequence[::-1])\n",
    "\n",
    "\n",
    "\n",
    "reverse_complement(sequence)"
   ]
  },
  {
   "cell_type": "markdown",
   "id": "433e3b73",
   "metadata": {},
   "source": [
    "Additionally, we write a function to check if the sequence provided/fetched is indeed a DNA sequence (it could be an RNA sequence). To do so, we just need to check if the characters that form the sequence are 'A','C','G' or 'T' (nucleic acid bases)."
   ]
  },
  {
   "cell_type": "code",
   "execution_count": 17,
   "id": "b4becace",
   "metadata": {},
   "outputs": [
    {
     "data": {
      "text/plain": [
       "True"
      ]
     },
     "execution_count": 17,
     "metadata": {},
     "output_type": "execute_result"
    }
   ],
   "source": [
    "def check_bases(sequence):\n",
    "    \n",
    "    valid_bases = 'ACGT'\n",
    "    \n",
    "    for i in sequence:\n",
    "        if i not in valid_bases:\n",
    "            return False\n",
    "        return True\n",
    "    \n",
    "check_bases(sequence)"
   ]
  },
  {
   "cell_type": "markdown",
   "id": "fa041945",
   "metadata": {},
   "source": [
    "Finally, for visualization purposes:\n",
    "- First, create a function that determines the nucleotide frequency of a DNA sequence and the relative frequency (proportion).\n",
    "- Make a plot to viusal interpretation of the frequencies\n"
   ]
  },
  {
   "cell_type": "code",
   "execution_count": 41,
   "id": "cf43ac1c",
   "metadata": {},
   "outputs": [
    {
     "data": {
      "image/png": "[encoded data removed]",
      "text/plain": [
       "<Figure size 864x360 with 2 Axes>"
      ]
     },
     "metadata": {
      "needs_background": "light"
     },
     "output_type": "display_data"
    }
   ],
   "source": [
    "import matplotlib.pyplot as plt\n",
    "\n",
    "# Given sequence\n",
    "sequence = 'ACTGGACATAGCAGCTCAGCAGCATGCGACTACTAGCAGCAAAAAA'\n",
    "\n",
    "# Function to calculate nucleotide frequencies\n",
    "def nucleotide_freq(sequence):\n",
    "    frequency = {'A': 0, 'C': 0, 'G': 0, 'T': 0}\n",
    "    for i in sequence:\n",
    "        if i in frequency.keys():\n",
    "            frequency[i] += 1\n",
    "    return frequency\n",
    "\n",
    "# Calculate frequencies\n",
    "freq = nucleotide_freq(sequence)\n",
    "total = sum(freq.values())\n",
    "relative_frequency = {base: count / total for base, count in freq.items()}\n",
    "\n",
    "\n",
    "#-----------PLOTTING-------------\n",
    "bases = list(freq.keys())\n",
    "counts = list(freq.values())\n",
    "relative_counts = list(relative_frequency.values())\n",
    "\n",
    "fig, axs = plt.subplots(1, 2, figsize=(12, 5), sharey=True)\n",
    "\n",
    "# Absolute frequencies plot\n",
    "axs[0].bar(bases, counts, color=['blue', 'orange', 'green', 'red'])\n",
    "axs[0].set_title('Absolute Frequencies', fontsize=14)\n",
    "axs[0].set_xlabel('Nucleotide', fontsize=12)\n",
    "axs[0].set_ylabel('Frequency', fontsize=12)\n",
    "axs[0].grid(axis='y', linestyle='--', alpha=0.7)\n",
    "\n",
    "# Relative frequencies plot\n",
    "axs[1].bar(bases, relative_counts, color=['blue', 'orange', 'green', 'red'])\n",
    "axs[1].set_title('Relative Frequencies', fontsize=14)\n",
    "axs[1].set_xlabel('Nucleotide', fontsize=12)\n",
    "axs[1].grid(axis='y', linestyle='--', alpha=0.7)\n",
    "\n",
    "# Adjust layout and show plot\n",
    "plt.tight_layout()\n",
    "plt.show()\n"
   ]
  },
  {
   "cell_type": "code",
   "execution_count": null,
   "id": "58a0b2a0",
   "metadata": {},
   "outputs": [],
   "source": []
  }
 ],
 "metadata": {
  "kernelspec": {
   "display_name": "Python 3 (ipykernel)",
   "language": "python",
   "name": "python3"
  },
  "language_info": {
   "codemirror_mode": {
    "name": "ipython",
    "version": 3
   },
   "file_extension": ".py",
   "mimetype": "text/x-python",
   "name": "python",
   "nbconvert_exporter": "python",
   "pygments_lexer": "ipython3",
   "version": "3.9.12"
  }
 },
 "nbformat": 4,
 "nbformat_minor": 5
}
